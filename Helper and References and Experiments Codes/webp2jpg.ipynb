{
 "cells": [
  {
   "cell_type": "code",
   "execution_count": 4,
   "metadata": {},
   "outputs": [],
   "source": [
    "# import os\n",
    "# from PIL import Image\n",
    "\n",
    "# def convert_webp_to_jpg(directory):\n",
    "#     # Create output directory for jpg files\n",
    "#     output_dir = os.path.join(directory, 'converted_jpg')\n",
    "#     os.makedirs(output_dir, exist_ok=True)\n",
    "#     c = 0\n",
    "#     # Iterate over all files in the directory\n",
    "#     for filename in os.listdir(directory):\n",
    "#         if filename.lower().endswith('.webp'):\n",
    "#             # Construct full file path\n",
    "#             webp_path = os.path.join(directory, filename)\n",
    "#             c += 1\n",
    "            \n",
    "#             # Open the webp file\n",
    "#             with Image.open(webp_path) as img:\n",
    "#                 # Convert RGBA to RGB if necessary\n",
    "#                 if img.mode == 'RGBA':\n",
    "#                     img = img.convert('RGB')\n",
    "                    \n",
    "#                 # Convert webp to jpg\n",
    "#                 jpg_path = os.path.join(output_dir, os.path.splitext(filename)[0] + '.jpg')\n",
    "#                 img.save(jpg_path, 'JPEG', quality=100)\n",
    "#             os.remove(webp_path)\n",
    "                \n",
    "#             print(f'Converted {webp_path} to {jpg_path}')\n",
    "#     print(f'Converted {c} files')\n",
    "\n",
    "# # Directory containing the images\n",
    "# image_directory = 'Train/History & Politics 2'\n",
    "\n",
    "# # Convert .webp images to .jpg\n",
    "# convert_webp_to_jpg(image_directory)\n"
   ]
  },
  {
   "cell_type": "code",
   "execution_count": 2,
   "metadata": {},
   "outputs": [
    {
     "name": "stdout",
     "output_type": "stream",
     "text": [
      "Converted 0 files\n"
     ]
    }
   ],
   "source": [
    "# import os\n",
    "# from PIL import Image\n",
    "\n",
    "# def convert_webp_to_jpg(directory):\n",
    "#     # Create output directory for jpg files\n",
    "#     output_dir = os.path.join(directory, 'converted_jpg')\n",
    "#     os.makedirs(output_dir, exist_ok=True)\n",
    "#     c = 0\n",
    "#     # Iterate over all files in the directory\n",
    "#     for filename in os.listdir(directory):\n",
    "#         if filename.lower().endswith('.webp'):\n",
    "#             # Construct full file path\n",
    "#             webp_path = os.path.join(directory, filename)\n",
    "#             c += 1\n",
    "            \n",
    "#             # Open the webp file\n",
    "#             with Image.open(webp_path) as img:\n",
    "#                 # Convert to RGB if necessary\n",
    "#                 if img.mode in ('RGBA', 'P'):\n",
    "#                     img = img.convert('RGB')\n",
    "                    \n",
    "#                 # Convert webp to jpg\n",
    "#                 jpg_path = os.path.join(output_dir, os.path.splitext(filename)[0] + '.jpg')\n",
    "#                 img.save(jpg_path, 'JPEG', quality=100)\n",
    "#             os.remove(webp_path)\n",
    "                \n",
    "#             print(f'Converted {webp_path} to {jpg_path}')\n",
    "#     print(f'Converted {c} files')\n",
    "\n",
    "# # Directory containing the images\n",
    "# image_directory = 'Train/Math, Science and Technology'\n",
    "\n",
    "# # Convert .webp images to .jpg\n",
    "# convert_webp_to_jpg(image_directory)"
   ]
  },
  {
   "cell_type": "code",
   "execution_count": 5,
   "metadata": {},
   "outputs": [
    {
     "name": "stdout",
     "output_type": "stream",
     "text": [
      "Files in the directory:\n",
      "1054\n",
      "ছবিতে আলাদিনের আশ্চর্য প্রদীপ.jpg\n",
      "১০০ পাতা- বারাণসীর দাঁত .jpg\n",
      "Chacha-Chaudhary-Aar-Chomotkari-Murgi-470x600.jpg\n",
      "দুধরা ও বাঘরা.jpg\n",
      "Amar-Chitra-Katha-345-Ghatotkach-er-Janma.jpg\n",
      "dussahosi-tintin-14-700x700.jpg\n",
      "চাঁদের পাহাড়.jpg\n",
      "হাতি যখন কাবু.png\n",
      "holde-hasher-chana.jpg\n",
      "মস্ত আর্টিস্ট.jpg\n",
      "আট দেশের আট উপকথা.jpg\n",
      "besik ali 3.jpeg\n",
      "পপআপ বই (বাংলা) - লিটল রেড রাইডিং হুড.jpeg\n",
      "tintin hangor rodar bivishika.jpg\n",
      "ছড়াসংগ্রহ.jpg\n"
     ]
    }
   ],
   "source": [
    "# import os\n",
    "# from PIL import Image\n",
    "\n",
    "# def list_files(directory):\n",
    "#     # List all files in the directory\n",
    "#     files = os.listdir(directory)\n",
    "#     print(\"Files in the directory:\")\n",
    "#     length = len(files)\n",
    "#     print(length)\n",
    "#     for file in range(0,60,4):\n",
    "#         print(files[file])\n",
    "        \n",
    "#     return files\n",
    "\n",
    "# image_directory = \"Test\"\n",
    "# files = list_files(image_directory)"
   ]
  },
  {
   "cell_type": "code",
   "execution_count": 1,
   "metadata": {},
   "outputs": [
    {
     "name": "stdout",
     "output_type": "stream",
     "text": [
      "Files in the directory:\n",
      "Total number of images with specified formats: 0\n",
      "Total number of non-image files: 7\n",
      "Total number of files: 7\n",
      "\n",
      "Non-image files:\n",
      "Train/.DS_Store\n",
      "Train/Math, Science and Technology\n",
      "Train/History & Politics 2\n",
      "Train/গণিত, বিজ্ঞান ও প্রযুক্তি\n",
      "Train/ইতিহাস ও রাজনীতি\n",
      "Train/গল্প\n",
      "Train/কমিক্স ও ছবির গল্প\n"
     ]
    }
   ],
   "source": [
    "import os\n",
    "from PIL import Image\n",
    "\n",
    "def list_files(directory):\n",
    "    image_formats = ['jpeg', 'jpg', 'png']\n",
    "    valid_images = []\n",
    "    non_image_files = []\n",
    "    \n",
    "    # List all files in the directory\n",
    "    files = os.listdir(directory)\n",
    "    print(\"Files in the directory:\")\n",
    "    \n",
    "    for file in files:\n",
    "        file_ext = file.split('.')[-1].lower()\n",
    "        if file_ext in image_formats:\n",
    "            valid_images.append(file)\n",
    "        else:\n",
    "            non_image_files.append(file)\n",
    "    \n",
    "    print(f\"Total number of images with specified formats: {len(valid_images)}\")\n",
    "    print(f\"Total number of non-image files: {len(non_image_files)}\")\n",
    "    print(f\"Total number of files: {len(files)}\")\n",
    "    \n",
    "    # for i in range(0, len(valid_images), 4):\n",
    "    #     print(valid_images[i])\n",
    "        \n",
    "    print(\"\\nNon-image files:\")\n",
    "    for non_image in non_image_files:\n",
    "        #os.remove(os.path.join(directory, non_image))\n",
    "        print(os.path.join(directory, non_image))\n",
    "    \n",
    "    #return valid_images, non_image_files\n",
    "\n",
    "# Directory containing the images\n",
    "image_directory = 'Train'\n",
    "\n",
    "# List files in the directory\n",
    "list_files(image_directory)\n"
   ]
  }
 ],
 "metadata": {
  "kernelspec": {
   "display_name": "Python 3",
   "language": "python",
   "name": "python3"
  },
  "language_info": {
   "codemirror_mode": {
    "name": "ipython",
    "version": 3
   },
   "file_extension": ".py",
   "mimetype": "text/x-python",
   "name": "python",
   "nbconvert_exporter": "python",
   "pygments_lexer": "ipython3",
   "version": "3.11.5"
  }
 },
 "nbformat": 4,
 "nbformat_minor": 2
}
