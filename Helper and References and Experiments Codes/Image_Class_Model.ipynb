{
 "cells": [
  {
   "cell_type": "code",
   "execution_count": 100,
   "id": "2a3d743d-d0ff-4400-8a6e-1f92b19651b9",
   "metadata": {},
   "outputs": [],
   "source": [
    "import numpy as np\n",
    "import pandas as pd\n",
    "import matplotlib.pyplot as plt\n",
    "import tensorflow as tf\n",
    "\n",
    "from tensorflow import keras\n",
    "from tensorflow.keras import layers\n"
   ]
  },
  {
   "cell_type": "code",
   "execution_count": 101,
   "id": "4237b577-9e63-4db2-b517-03e6232f3934",
   "metadata": {},
   "outputs": [],
   "source": [
    "# data_train_path = 'Fruits_Vegetables/train'\n",
    "# data_test_path = 'Fruits_Vegetables/test'\n",
    "# data_val_path = 'Fruits_Vegetables/validation'\n",
    "\n",
    "data_train_path = 'Data/Train'\n",
    "data_test_path = 'Data/Test'\n",
    "data_val_path = 'Data/Validation'\n",
    "\n",
    "\n"
   ]
  },
  {
   "cell_type": "code",
   "execution_count": 102,
   "id": "4757afa4-c1a9-4eba-9dd0-1aa3eb05b3d8",
   "metadata": {},
   "outputs": [],
   "source": [
    "img_width = 180\n",
    "img_height =180 "
   ]
  },
  {
   "cell_type": "code",
   "execution_count": 103,
   "id": "80333e90-0e08-4921-ace3-cdb58267d7e0",
   "metadata": {},
   "outputs": [
    {
     "name": "stdout",
     "output_type": "stream",
     "text": [
      "Found 713 files belonging to 4 classes.\n"
     ]
    }
   ],
   "source": [
    "data_train = tf.keras.utils.image_dataset_from_directory(\n",
    "    data_train_path,\n",
    "    shuffle=True,\n",
    "    image_size=(img_width, img_height),\n",
    "    batch_size=32,\n",
    "    validation_split=False)"
   ]
  },
  {
   "cell_type": "code",
   "execution_count": 104,
   "id": "187f9d7b-9ac8-47a4-9772-ef398c72b1db",
   "metadata": {},
   "outputs": [],
   "source": [
    "data_cat = data_train.class_names"
   ]
  },
  {
   "cell_type": "code",
   "execution_count": 105,
   "id": "354e1e80-9d90-4ce5-b758-434ca9e88666",
   "metadata": {},
   "outputs": [
    {
     "data": {
      "text/plain": [
       "['ইতিহাস ও রাজনীতি', 'কমিক্স ও ছবির গল্প', 'গণিত, বিজ্ঞান ও প্রযুক্তি', 'গল্প']"
      ]
     },
     "execution_count": 105,
     "metadata": {},
     "output_type": "execute_result"
    }
   ],
   "source": [
    "data_cat"
   ]
  },
  {
   "cell_type": "code",
   "execution_count": 106,
   "id": "6806f7b3-768b-40a2-8ae4-5a829ee7b500",
   "metadata": {},
   "outputs": [
    {
     "name": "stdout",
     "output_type": "stream",
     "text": [
      "Found 97 files belonging to 4 classes.\n"
     ]
    }
   ],
   "source": [
    "data_val = tf.keras.utils.image_dataset_from_directory(data_val_path,\n",
    "                                                       image_size=(img_height,img_width),\n",
    "                                                       batch_size=32,\n",
    "                                                       shuffle=False,\n",
    "                                                       validation_split=False)"
   ]
  },
  {
   "cell_type": "code",
   "execution_count": 107,
   "id": "2642a2a2-f0e3-402e-8c51-4126609f3c16",
   "metadata": {},
   "outputs": [
    {
     "name": "stdout",
     "output_type": "stream",
     "text": [
      "Found 195 files belonging to 4 classes.\n"
     ]
    }
   ],
   "source": [
    "data_test = tf.keras.utils.image_dataset_from_directory(\n",
    "data_test_path,\n",
    "    image_size=(img_height,img_width),\n",
    "    shuffle=False,\n",
    "    batch_size=32,\n",
    "    validation_split=False\n",
    ")"
   ]
  },
  {
   "cell_type": "code",
   "execution_count": 108,
   "id": "52864b42-f001-4309-8983-830a26ce48c4",
   "metadata": {},
   "outputs": [],
   "source": [
    "# plt.figure(figsize=(10,10))\n",
    "# for image, labels in data_train.take(1):\n",
    "#     for i in range(9):\n",
    "#         plt.subplot(3,3,i+1)\n",
    "#         plt.imshow(image[i].numpy().astype('uint8'))\n",
    "#         plt.title(data_cat[labels[i]])\n",
    "#         plt.axis('off')"
   ]
  },
  {
   "cell_type": "code",
   "execution_count": 109,
   "id": "04224164-109a-44b9-88d1-a6d453bbb802",
   "metadata": {},
   "outputs": [],
   "source": [
    "from tensorflow.keras.models import Sequential"
   ]
  },
  {
   "cell_type": "code",
   "execution_count": 110,
   "id": "5a992c23-c6ec-44cd-8c3f-bc2bd8ed51e9",
   "metadata": {},
   "outputs": [
    {
     "data": {
      "text/plain": [
       "<_PrefetchDataset element_spec=(TensorSpec(shape=(None, 180, 180, 3), dtype=tf.float32, name=None), TensorSpec(shape=(None,), dtype=tf.int32, name=None))>"
      ]
     },
     "execution_count": 110,
     "metadata": {},
     "output_type": "execute_result"
    }
   ],
   "source": [
    "data_train"
   ]
  },
  {
   "cell_type": "code",
   "execution_count": 111,
   "id": "a28fe18b-bcd9-473c-a538-622cc59236b9",
   "metadata": {},
   "outputs": [],
   "source": [
    "model = Sequential([\n",
    "    layers.Rescaling(1./255),\n",
    "    layers.Conv2D(16, 3, padding='same', activation='relu'),\n",
    "    layers.MaxPooling2D(),\n",
    "    layers.Conv2D(32,3, padding='same',activation='relu'),\n",
    "    layers.MaxPooling2D(),\n",
    "    layers.Conv2D(64, 3, padding='same', activation='relu'),\n",
    "    layers.MaxPooling2D(),\n",
    "    layers.Flatten(),\n",
    "    layers.Dropout(0.2),\n",
    "    layers.Dense(128, activation='relu'),\n",
    "    layers.Dropout(0.2),\n",
    "    layers.Dense(len(data_cat), activation='softmax')\n",
    "                  \n",
    "])"
   ]
  },
  {
   "cell_type": "code",
   "execution_count": 112,
   "id": "a1d9b675-7a68-4474-b76d-f0bae882dbef",
   "metadata": {},
   "outputs": [],
   "source": [
    "model.compile(optimizer='adam', loss=tf.keras.losses.SparseCategoricalCrossentropy(from_logits=True), metrics=['accuracy'])"
   ]
  },
  {
   "cell_type": "code",
   "execution_count": 113,
   "id": "2af04e1b-89f9-43cf-b4e4-46a03a5e1484",
   "metadata": {},
   "outputs": [
    {
     "name": "stdout",
     "output_type": "stream",
     "text": [
      "Epoch 1/14\n"
     ]
    },
    {
     "name": "stderr",
     "output_type": "stream",
     "text": [
      "/Library/Frameworks/Python.framework/Versions/3.11/lib/python3.11/site-packages/keras/src/backend.py:5727: UserWarning: \"`sparse_categorical_crossentropy` received `from_logits=True`, but the `output` argument was produced by a Softmax activation and thus does not represent logits. Was this intended?\n",
      "  output, from_logits = _get_logits(\n"
     ]
    },
    {
     "name": "stdout",
     "output_type": "stream",
     "text": [
      "23/23 [==============================] - 7s 245ms/step - loss: 1.6352 - accuracy: 0.2973 - val_loss: 1.3832 - val_accuracy: 0.2887\n",
      "Epoch 2/14\n",
      "23/23 [==============================] - 5s 198ms/step - loss: 1.2949 - accuracy: 0.3983 - val_loss: 1.2752 - val_accuracy: 0.4124\n",
      "Epoch 3/14\n",
      "23/23 [==============================] - 5s 190ms/step - loss: 1.0662 - accuracy: 0.5666 - val_loss: 1.1770 - val_accuracy: 0.5258\n",
      "Epoch 4/14\n",
      "23/23 [==============================] - 5s 191ms/step - loss: 0.8733 - accuracy: 0.6592 - val_loss: 1.0653 - val_accuracy: 0.5670\n",
      "Epoch 5/14\n",
      "23/23 [==============================] - 5s 193ms/step - loss: 0.6958 - accuracy: 0.7195 - val_loss: 1.0782 - val_accuracy: 0.6289\n",
      "Epoch 6/14\n",
      "23/23 [==============================] - 5s 197ms/step - loss: 0.5036 - accuracy: 0.7994 - val_loss: 1.1103 - val_accuracy: 0.5773\n",
      "Epoch 7/14\n",
      "23/23 [==============================] - 5s 195ms/step - loss: 0.4507 - accuracy: 0.8345 - val_loss: 1.1411 - val_accuracy: 0.6186\n",
      "Epoch 8/14\n",
      "23/23 [==============================] - 5s 204ms/step - loss: 0.2582 - accuracy: 0.9130 - val_loss: 1.5687 - val_accuracy: 0.5876\n",
      "Epoch 9/14\n",
      "23/23 [==============================] - 5s 207ms/step - loss: 0.2332 - accuracy: 0.9243 - val_loss: 1.4675 - val_accuracy: 0.6082\n",
      "Epoch 10/14\n",
      "23/23 [==============================] - 5s 203ms/step - loss: 0.1344 - accuracy: 0.9579 - val_loss: 1.5829 - val_accuracy: 0.5670\n",
      "Epoch 11/14\n",
      "23/23 [==============================] - 6s 215ms/step - loss: 0.0801 - accuracy: 0.9804 - val_loss: 1.5524 - val_accuracy: 0.5979\n",
      "Epoch 12/14\n",
      "23/23 [==============================] - 5s 205ms/step - loss: 0.0545 - accuracy: 0.9888 - val_loss: 1.8024 - val_accuracy: 0.5773\n",
      "Epoch 13/14\n",
      "23/23 [==============================] - 6s 211ms/step - loss: 0.0516 - accuracy: 0.9860 - val_loss: 1.7356 - val_accuracy: 0.6082\n",
      "Epoch 14/14\n",
      "23/23 [==============================] - 5s 203ms/step - loss: 0.0412 - accuracy: 0.9916 - val_loss: 1.7226 - val_accuracy: 0.6289\n"
     ]
    }
   ],
   "source": [
    "epochs_size = 14\n",
    "history = model.fit(data_train, validation_data=data_val, epochs=epochs_size)"
   ]
  },
  {
   "cell_type": "code",
   "execution_count": 114,
   "id": "6a2c8183",
   "metadata": {},
   "outputs": [
    {
     "name": "stdout",
     "output_type": "stream",
     "text": [
      "dict_keys(['loss', 'accuracy', 'val_loss', 'val_accuracy'])\n"
     ]
    }
   ],
   "source": [
    "print(history.history.keys())"
   ]
  },
  {
   "cell_type": "code",
   "execution_count": 115,
   "id": "f34520a4-8a46-4c32-a7ca-d23ccab7baf2",
   "metadata": {},
   "outputs": [
    {
     "data": {
      "text/plain": [
       "Text(0.5, 1.0, 'Loss')"
      ]
     },
     "execution_count": 115,
     "metadata": {},
     "output_type": "execute_result"
    },
    {
     "data": {
      "image/png": "[encoded data removed]",
      "text/plain": [
       "<Figure size 800x800 with 2 Axes>"
      ]
     },
     "metadata": {},
     "output_type": "display_data"
    }
   ],
   "source": [
    "epochs_range = range(epochs_size)\n",
    "plt.figure(figsize=(8,8))\n",
    "plt.subplot(1,2,1)\n",
    "plt.plot(epochs_range,history.history['accuracy'],label = 'Training Accuracy')\n",
    "plt.plot(epochs_range, history.history['val_accuracy'],label = 'Validation Accuracy')\n",
    "plt.title('Accuracy')\n",
    "\n",
    "plt.subplot(1,2,2)\n",
    "plt.plot(epochs_range,history.history['loss'],label = 'Training Loss')\n",
    "plt.plot(epochs_range, history.history['val_loss'],label = 'Validation Loss')\n",
    "plt.title('Loss')"
   ]
  },
  {
   "cell_type": "code",
   "execution_count": 116,
   "id": "7a3d5f48",
   "metadata": {},
   "outputs": [],
   "source": [
    "from sklearn.metrics import classification_report, confusion_matrix\n",
    "import seaborn as sns"
   ]
  },
  {
   "cell_type": "code",
   "execution_count": 117,
   "id": "82cb1802",
   "metadata": {},
   "outputs": [
    {
     "name": "stdout",
     "output_type": "stream",
     "text": [
      "7/7 [==============================] - 1s 105ms/step - loss: 1.4505 - accuracy: 0.6410\n",
      "Test Loss: 1.4505\n",
      "Test Accuracy: 0.6410\n"
     ]
    }
   ],
   "source": [
    "evaluation = model.evaluate(data_test)\n",
    "print(f\"Test Loss: {evaluation[0]:.4f}\")\n",
    "print(f\"Test Accuracy: {evaluation[1]:.4f}\")"
   ]
  },
  {
   "cell_type": "code",
   "execution_count": 118,
   "id": "cf3bf0c5",
   "metadata": {},
   "outputs": [
    {
     "name": "stdout",
     "output_type": "stream",
     "text": [
      "7/7 [==============================] - 1s 120ms/step\n",
      "\n",
      "Classification Report:\n",
      "                           precision    recall  f1-score   support\n",
      "\n",
      "         ইতিহাস ও রাজনীতি       0.61      0.86      0.72        50\n",
      "       কমিক্স ও ছবির গল্প       0.66      0.85      0.74        47\n",
      "গণিত, বিজ্ঞান ও প্রযুক্তি       0.69      0.60      0.64        48\n",
      "                     গল্প       0.59      0.26      0.36        50\n",
      "\n",
      "                 accuracy                           0.64       195\n",
      "                macro avg       0.64      0.64      0.62       195\n",
      "             weighted avg       0.64      0.64      0.61       195\n",
      "\n",
      "\n",
      "Confusion Matrix:\n",
      "[[43  1  2  4]\n",
      " [ 3 40  2  2]\n",
      " [ 4 12 29  3]\n",
      " [20  8  9 13]]\n"
     ]
    },
    {
     "name": "stderr",
     "output_type": "stream",
     "text": [
      "/Library/Frameworks/Python.framework/Versions/3.11/lib/python3.11/site-packages/seaborn/utils.py:61: UserWarning: Glyph 2439 (\\N{BENGALI LETTER I}) missing from current font.\n",
      "  fig.canvas.draw()\n",
      "/Library/Frameworks/Python.framework/Versions/3.11/lib/python3.11/site-packages/seaborn/utils.py:61: UserWarning: Matplotlib currently does not support Bengali natively.\n",
      "  fig.canvas.draw()\n",
      "/Library/Frameworks/Python.framework/Versions/3.11/lib/python3.11/site-packages/seaborn/utils.py:61: UserWarning: Glyph 2468 (\\N{BENGALI LETTER TA}) missing from current font.\n",
      "  fig.canvas.draw()\n",
      "/Library/Frameworks/Python.framework/Versions/3.11/lib/python3.11/site-packages/seaborn/utils.py:61: UserWarning: Glyph 2495 (\\N{BENGALI VOWEL SIGN I}) missing from current font.\n",
      "  fig.canvas.draw()\n",
      "/Library/Frameworks/Python.framework/Versions/3.11/lib/python3.11/site-packages/seaborn/utils.py:61: UserWarning: Glyph 2489 (\\N{BENGALI LETTER HA}) missing from current font.\n",
      "  fig.canvas.draw()\n",
      "/Library/Frameworks/Python.framework/Versions/3.11/lib/python3.11/site-packages/seaborn/utils.py:61: UserWarning: Glyph 2494 (\\N{BENGALI VOWEL SIGN AA}) missing from current font.\n",
      "  fig.canvas.draw()\n",
      "/Library/Frameworks/Python.framework/Versions/3.11/lib/python3.11/site-packages/seaborn/utils.py:61: UserWarning: Glyph 2488 (\\N{BENGALI LETTER SA}) missing from current font.\n",
      "  fig.canvas.draw()\n",
      "/Library/Frameworks/Python.framework/Versions/3.11/lib/python3.11/site-packages/seaborn/utils.py:61: UserWarning: Glyph 2451 (\\N{BENGALI LETTER O}) missing from current font.\n",
      "  fig.canvas.draw()\n",
      "/Library/Frameworks/Python.framework/Versions/3.11/lib/python3.11/site-packages/seaborn/utils.py:61: UserWarning: Glyph 2480 (\\N{BENGALI LETTER RA}) missing from current font.\n",
      "  fig.canvas.draw()\n",
      "/Library/Frameworks/Python.framework/Versions/3.11/lib/python3.11/site-packages/seaborn/utils.py:61: UserWarning: Glyph 2460 (\\N{BENGALI LETTER JA}) missing from current font.\n",
      "  fig.canvas.draw()\n",
      "/Library/Frameworks/Python.framework/Versions/3.11/lib/python3.11/site-packages/seaborn/utils.py:61: UserWarning: Glyph 2472 (\\N{BENGALI LETTER NA}) missing from current font.\n",
      "  fig.canvas.draw()\n",
      "/Library/Frameworks/Python.framework/Versions/3.11/lib/python3.11/site-packages/seaborn/utils.py:61: UserWarning: Glyph 2496 (\\N{BENGALI VOWEL SIGN II}) missing from current font.\n",
      "  fig.canvas.draw()\n",
      "/Library/Frameworks/Python.framework/Versions/3.11/lib/python3.11/site-packages/seaborn/utils.py:61: UserWarning: Glyph 2453 (\\N{BENGALI LETTER KA}) missing from current font.\n",
      "  fig.canvas.draw()\n",
      "/Library/Frameworks/Python.framework/Versions/3.11/lib/python3.11/site-packages/seaborn/utils.py:61: UserWarning: Glyph 2478 (\\N{BENGALI LETTER MA}) missing from current font.\n",
      "  fig.canvas.draw()\n",
      "/Library/Frameworks/Python.framework/Versions/3.11/lib/python3.11/site-packages/seaborn/utils.py:61: UserWarning: Glyph 2509 (\\N{BENGALI SIGN VIRAMA}) missing from current font.\n",
      "  fig.canvas.draw()\n",
      "/Library/Frameworks/Python.framework/Versions/3.11/lib/python3.11/site-packages/seaborn/utils.py:61: UserWarning: Glyph 2459 (\\N{BENGALI LETTER CHA}) missing from current font.\n",
      "  fig.canvas.draw()\n",
      "/Library/Frameworks/Python.framework/Versions/3.11/lib/python3.11/site-packages/seaborn/utils.py:61: UserWarning: Glyph 2476 (\\N{BENGALI LETTER BA}) missing from current font.\n",
      "  fig.canvas.draw()\n",
      "/Library/Frameworks/Python.framework/Versions/3.11/lib/python3.11/site-packages/seaborn/utils.py:61: UserWarning: Glyph 2455 (\\N{BENGALI LETTER GA}) missing from current font.\n",
      "  fig.canvas.draw()\n",
      "/Library/Frameworks/Python.framework/Versions/3.11/lib/python3.11/site-packages/seaborn/utils.py:61: UserWarning: Glyph 2482 (\\N{BENGALI LETTER LA}) missing from current font.\n",
      "  fig.canvas.draw()\n",
      "/Library/Frameworks/Python.framework/Versions/3.11/lib/python3.11/site-packages/seaborn/utils.py:61: UserWarning: Glyph 2474 (\\N{BENGALI LETTER PA}) missing from current font.\n",
      "  fig.canvas.draw()\n",
      "/Library/Frameworks/Python.framework/Versions/3.11/lib/python3.11/site-packages/seaborn/utils.py:61: UserWarning: Glyph 2467 (\\N{BENGALI LETTER NNA}) missing from current font.\n",
      "  fig.canvas.draw()\n",
      "/Library/Frameworks/Python.framework/Versions/3.11/lib/python3.11/site-packages/seaborn/utils.py:61: UserWarning: Glyph 2462 (\\N{BENGALI LETTER NYA}) missing from current font.\n",
      "  fig.canvas.draw()\n",
      "/Library/Frameworks/Python.framework/Versions/3.11/lib/python3.11/site-packages/seaborn/utils.py:61: UserWarning: Glyph 2479 (\\N{BENGALI LETTER YA}) missing from current font.\n",
      "  fig.canvas.draw()\n",
      "/Library/Frameworks/Python.framework/Versions/3.11/lib/python3.11/site-packages/seaborn/utils.py:61: UserWarning: Glyph 2497 (\\N{BENGALI VOWEL SIGN U}) missing from current font.\n",
      "  fig.canvas.draw()\n",
      "/Users/loknathsaha/Library/Python/3.11/lib/python/site-packages/IPython/core/pylabtools.py:152: UserWarning: Glyph 2439 (\\N{BENGALI LETTER I}) missing from current font.\n",
      "  fig.canvas.print_figure(bytes_io, **kw)\n",
      "/Users/loknathsaha/Library/Python/3.11/lib/python/site-packages/IPython/core/pylabtools.py:152: UserWarning: Matplotlib currently does not support Bengali natively.\n",
      "  fig.canvas.print_figure(bytes_io, **kw)\n",
      "/Users/loknathsaha/Library/Python/3.11/lib/python/site-packages/IPython/core/pylabtools.py:152: UserWarning: Glyph 2468 (\\N{BENGALI LETTER TA}) missing from current font.\n",
      "  fig.canvas.print_figure(bytes_io, **kw)\n",
      "/Users/loknathsaha/Library/Python/3.11/lib/python/site-packages/IPython/core/pylabtools.py:152: UserWarning: Glyph 2495 (\\N{BENGALI VOWEL SIGN I}) missing from current font.\n",
      "  fig.canvas.print_figure(bytes_io, **kw)\n",
      "/Users/loknathsaha/Library/Python/3.11/lib/python/site-packages/IPython/core/pylabtools.py:152: UserWarning: Glyph 2489 (\\N{BENGALI LETTER HA}) missing from current font.\n",
      "  fig.canvas.print_figure(bytes_io, **kw)\n",
      "/Users/loknathsaha/Library/Python/3.11/lib/python/site-packages/IPython/core/pylabtools.py:152: UserWarning: Glyph 2494 (\\N{BENGALI VOWEL SIGN AA}) missing from current font.\n",
      "  fig.canvas.print_figure(bytes_io, **kw)\n",
      "/Users/loknathsaha/Library/Python/3.11/lib/python/site-packages/IPython/core/pylabtools.py:152: UserWarning: Glyph 2488 (\\N{BENGALI LETTER SA}) missing from current font.\n",
      "  fig.canvas.print_figure(bytes_io, **kw)\n",
      "/Users/loknathsaha/Library/Python/3.11/lib/python/site-packages/IPython/core/pylabtools.py:152: UserWarning: Glyph 2451 (\\N{BENGALI LETTER O}) missing from current font.\n",
      "  fig.canvas.print_figure(bytes_io, **kw)\n",
      "/Users/loknathsaha/Library/Python/3.11/lib/python/site-packages/IPython/core/pylabtools.py:152: UserWarning: Glyph 2480 (\\N{BENGALI LETTER RA}) missing from current font.\n",
      "  fig.canvas.print_figure(bytes_io, **kw)\n",
      "/Users/loknathsaha/Library/Python/3.11/lib/python/site-packages/IPython/core/pylabtools.py:152: UserWarning: Glyph 2460 (\\N{BENGALI LETTER JA}) missing from current font.\n",
      "  fig.canvas.print_figure(bytes_io, **kw)\n",
      "/Users/loknathsaha/Library/Python/3.11/lib/python/site-packages/IPython/core/pylabtools.py:152: UserWarning: Glyph 2472 (\\N{BENGALI LETTER NA}) missing from current font.\n",
      "  fig.canvas.print_figure(bytes_io, **kw)\n",
      "/Users/loknathsaha/Library/Python/3.11/lib/python/site-packages/IPython/core/pylabtools.py:152: UserWarning: Glyph 2496 (\\N{BENGALI VOWEL SIGN II}) missing from current font.\n",
      "  fig.canvas.print_figure(bytes_io, **kw)\n",
      "/Users/loknathsaha/Library/Python/3.11/lib/python/site-packages/IPython/core/pylabtools.py:152: UserWarning: Glyph 2453 (\\N{BENGALI LETTER KA}) missing from current font.\n",
      "  fig.canvas.print_figure(bytes_io, **kw)\n",
      "/Users/loknathsaha/Library/Python/3.11/lib/python/site-packages/IPython/core/pylabtools.py:152: UserWarning: Glyph 2478 (\\N{BENGALI LETTER MA}) missing from current font.\n",
      "  fig.canvas.print_figure(bytes_io, **kw)\n",
      "/Users/loknathsaha/Library/Python/3.11/lib/python/site-packages/IPython/core/pylabtools.py:152: UserWarning: Glyph 2509 (\\N{BENGALI SIGN VIRAMA}) missing from current font.\n",
      "  fig.canvas.print_figure(bytes_io, **kw)\n",
      "/Users/loknathsaha/Library/Python/3.11/lib/python/site-packages/IPython/core/pylabtools.py:152: UserWarning: Glyph 2459 (\\N{BENGALI LETTER CHA}) missing from current font.\n",
      "  fig.canvas.print_figure(bytes_io, **kw)\n",
      "/Users/loknathsaha/Library/Python/3.11/lib/python/site-packages/IPython/core/pylabtools.py:152: UserWarning: Glyph 2476 (\\N{BENGALI LETTER BA}) missing from current font.\n",
      "  fig.canvas.print_figure(bytes_io, **kw)\n",
      "/Users/loknathsaha/Library/Python/3.11/lib/python/site-packages/IPython/core/pylabtools.py:152: UserWarning: Glyph 2455 (\\N{BENGALI LETTER GA}) missing from current font.\n",
      "  fig.canvas.print_figure(bytes_io, **kw)\n",
      "/Users/loknathsaha/Library/Python/3.11/lib/python/site-packages/IPython/core/pylabtools.py:152: UserWarning: Glyph 2482 (\\N{BENGALI LETTER LA}) missing from current font.\n",
      "  fig.canvas.print_figure(bytes_io, **kw)\n",
      "/Users/loknathsaha/Library/Python/3.11/lib/python/site-packages/IPython/core/pylabtools.py:152: UserWarning: Glyph 2474 (\\N{BENGALI LETTER PA}) missing from current font.\n",
      "  fig.canvas.print_figure(bytes_io, **kw)\n",
      "/Users/loknathsaha/Library/Python/3.11/lib/python/site-packages/IPython/core/pylabtools.py:152: UserWarning: Glyph 2467 (\\N{BENGALI LETTER NNA}) missing from current font.\n",
      "  fig.canvas.print_figure(bytes_io, **kw)\n",
      "/Users/loknathsaha/Library/Python/3.11/lib/python/site-packages/IPython/core/pylabtools.py:152: UserWarning: Glyph 2462 (\\N{BENGALI LETTER NYA}) missing from current font.\n",
      "  fig.canvas.print_figure(bytes_io, **kw)\n",
      "/Users/loknathsaha/Library/Python/3.11/lib/python/site-packages/IPython/core/pylabtools.py:152: UserWarning: Glyph 2479 (\\N{BENGALI LETTER YA}) missing from current font.\n",
      "  fig.canvas.print_figure(bytes_io, **kw)\n",
      "/Users/loknathsaha/Library/Python/3.11/lib/python/site-packages/IPython/core/pylabtools.py:152: UserWarning: Glyph 2497 (\\N{BENGALI VOWEL SIGN U}) missing from current font.\n",
      "  fig.canvas.print_figure(bytes_io, **kw)\n"
     ]
    },
    {
     "data": {
      "image/png": "[encoded data removed]",
      "text/plain": [
       "<Figure size 1000x800 with 2 Axes>"
      ]
     },
     "metadata": {},
     "output_type": "display_data"
    }
   ],
   "source": [
    "\n",
    "# Assuming data_test is a tf.data.Dataset or similar\n",
    "# Extract true labels from the dataset\n",
    "y_true = np.concatenate([y for x, y in data_test], axis=0)\n",
    "\n",
    "# Generate predictions\n",
    "y_pred = model.predict(data_test)\n",
    "y_pred_classes = np.argmax(y_pred, axis=1)\n",
    "\n",
    "# Generate classification report\n",
    "print(\"\\nClassification Report:\")\n",
    "print(classification_report(y_true, y_pred_classes, target_names=data_test.class_names))\n",
    "\n",
    "# Generate confusion matrix\n",
    "cm = confusion_matrix(y_true, y_pred_classes)\n",
    "print(\"\\nConfusion Matrix:\")\n",
    "print(cm)\n",
    "\n",
    "# Visualize confusion matrix\n",
    "plt.figure(figsize=(10, 8))\n",
    "sns.heatmap(cm, annot=True, fmt='d', cmap='Blues', xticklabels=data_test.class_names, yticklabels=data_test.class_names)\n",
    "plt.title('Confusion Matrix')\n",
    "plt.ylabel('True Label')\n",
    "plt.xlabel('Predicted Label')\n",
    "plt.show()"
   ]
  },
  {
   "cell_type": "code",
   "execution_count": 119,
   "id": "32079289-3b3a-4329-8d47-3f32bba603cc",
   "metadata": {},
   "outputs": [],
   "source": [
    "image = 'Apple.jpg'\n",
    "image = tf.keras.utils.load_img(image, target_size=(img_height,img_width))\n",
    "img_arr = tf.keras.utils.array_to_img(image)\n",
    "img_bat=tf.expand_dims(img_arr,0)"
   ]
  },
  {
   "cell_type": "code",
   "execution_count": 120,
   "id": "df9e303d-7fa6-46c1-a525-db13590bb974",
   "metadata": {},
   "outputs": [
    {
     "name": "stdout",
     "output_type": "stream",
     "text": [
      "1/1 [==============================] - 0s 61ms/step\n"
     ]
    }
   ],
   "source": [
    "predict = model.predict(img_bat)"
   ]
  },
  {
   "cell_type": "code",
   "execution_count": 121,
   "id": "4e2491d5-87b0-4904-85d5-cf59a0078324",
   "metadata": {},
   "outputs": [],
   "source": [
    "score = tf.nn.softmax(predict)"
   ]
  },
  {
   "cell_type": "code",
   "execution_count": 122,
   "id": "7f95af83-a97d-4aa2-8584-fc6d89261ec5",
   "metadata": {},
   "outputs": [
    {
     "name": "stdout",
     "output_type": "stream",
     "text": [
      "Veg/Fruit in image is ইতিহাস ও রাজনীতি with accuracy of 34.14\n"
     ]
    }
   ],
   "source": [
    "print('Veg/Fruit in image is {} with accuracy of {:0.2f}'.format(data_cat[np.argmax(score)],np.max(score)*100))"
   ]
  },
  {
   "cell_type": "code",
   "execution_count": 123,
   "id": "fe2d76b4-7666-4752-98b6-060b9a2bc925",
   "metadata": {},
   "outputs": [],
   "source": [
    "# model.save('Image_classify.keras')"
   ]
  },
  {
   "cell_type": "code",
   "execution_count": null,
   "id": "bdd7cf31-1fe3-4b9c-a2ce-0a9fe2749f52",
   "metadata": {},
   "outputs": [],
   "source": []
  }
 ],
 "metadata": {
  "kernelspec": {
   "display_name": "Python 3 (ipykernel)",
   "language": "python",
   "name": "python3"
  },
  "language_info": {
   "codemirror_mode": {
    "name": "ipython",
    "version": 3
   },
   "file_extension": ".py",
   "mimetype": "text/x-python",
   "name": "python",
   "nbconvert_exporter": "python",
   "pygments_lexer": "ipython3",
   "version": "3.11.5"
  }
 },
 "nbformat": 4,
 "nbformat_minor": 5
}
